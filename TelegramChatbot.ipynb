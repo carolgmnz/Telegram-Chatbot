{
 "cells": [
  {
   "cell_type": "markdown",
   "metadata": {},
   "source": [
    "# Desarrollo de un chatbot en Telegram para la organización de tareas"
   ]
  },
  {
   "cell_type": "markdown",
   "metadata": {},
   "source": [
    "Bot desarrollado por Carolina Giménez Arias\n",
    "Nota: para ejecutarlo es necesario tener un token propio (se obtiene en la API de Telegram)."
   ]
  },
  {
   "cell_type": "code",
   "execution_count": 2,
   "metadata": {},
   "outputs": [
    {
     "name": "stdout",
     "output_type": "stream",
     "text": [
      "El bot se está ejecutando\n"
     ]
    }
   ],
   "source": [
    "from emoji import emojize\n",
    "import telebot\n",
    "TOKEN = 'XXXXXXXXXXXXXX' #Insertar aquí su TOKEN\n",
    "bot = telebot.TeleBot(TOKEN)\n",
    "\n",
    "# Funcion que envia el sticker en la bienvenida\n",
    "def send_sti(message):\n",
    "    chatid = message.chat.id\n",
    "    sti = open('/Desktop/botToDo.webp', 'rb')\n",
    "    bot.send_sticker(chatid, sti)\n",
    "\n",
    "# Funcion que envia el sticker de congratulations\n",
    "def send_congrat(message):\n",
    "    chatid = message.chat.id\n",
    "    sti = open('/Desktop/congratssimpson.webp', 'rb')\n",
    "    bot.send_sticker(chatid, sti)\n",
    "\n",
    "\n",
    "# Funcion que da la bienvenida\n",
    "@bot.message_handler(commands = [\"start\",\"help\"])\n",
    "def send_welcome(message):\n",
    "    global chatid\n",
    "    chatid = message.chat.id\n",
    "    name = str(message.from_user.first_name)\n",
    "    saludo = emojize(\"Bienvenid@ a botToDo, {nombre}! \\nEste bot ha sido diseñado para ayudarte con la organización de tus tareas. :calendar: \\n\"+ \":black_small_square:\" +\"Para insertar una tarea escribe /task \\n\" + \":black_small_square:\" +\"Para borrar una tarea escribe /delete \\n\" + \":black_small_square:\" + \"Para ver la lista de tareas pendientes escribe /list \\n\" + \":black_small_square:\" + \"Para ver la lista de tareas completadas escribe /completed \\n\" + \":question:\" + \"Si necesitas ayuda, escribe /help\", use_aliases=True)\n",
    "    send_sti(message)\n",
    "    bot.send_message(chatid, saludo.format(nombre=name))\n",
    "\n",
    "    \n",
    "# Funcion que crea las tareas y las guarda en una lista\n",
    "@bot.message_handler(commands=[\"task\"])\n",
    "def new_task(message):\n",
    "    global commands\n",
    "    commands = \"task\"\n",
    "    global a\n",
    "    global completadas\n",
    "    a = []\n",
    "    completadas = []\n",
    "    bot.send_message(chatid, \"Introduce tus tareas:\")\n",
    "    #photo = open('/Users/carolgimenezarias/Desktop/images.png', 'rb')\n",
    "\n",
    "\n",
    "@bot.message_handler(commands=[\"list\"])\n",
    "def see_tasks(message):\n",
    "    name = str(a)\n",
    "    tareas_pendientes = \"Tareas pendientes: {nombre}\"\n",
    "    bot.send_message(chatid, emojize(\":x:\" + str(tareas_pendientes.format(nombre=name)), use_aliases=True))\n",
    "\n",
    "\n",
    "# Funcion que completa tarea\n",
    "@bot.message_handler(commands=[\"delete\"])\n",
    "def delete_task(message):\n",
    "    global commands\n",
    "    commands = \"delete\"\n",
    "    bot.send_message(chatid, \"¿Qué tarea has completado?:\")\n",
    "\n",
    "    \n",
    "# Funcion que muestra las tareas completadas\n",
    "@bot.message_handler(commands=[\"completed\"])\n",
    "def completed_task(message):\n",
    "    bot.send_message(chatid, emojize(\":white_check_mark:\" + str(completadas), use_aliases=True))\n",
    "    \n",
    "#Funcion menu\n",
    "def build_menu(buttons,\n",
    "               n_cols,\n",
    "               header_buttons=None,\n",
    "               footer_buttons=None):\n",
    "    menu = [buttons[i:i + n_cols] for i in range(0, len(buttons), n_cols)]\n",
    "    if header_buttons:\n",
    "        menu.insert(0, header_buttons)\n",
    "    if footer_buttons:\n",
    "        menu.append(footer_buttons)\n",
    "    return menu\n",
    "\n",
    "button_list = [\n",
    "    InlineKeyboardButton(\"col1\", callback_data=...),\n",
    "    InlineKeyboardButton(\"col2\", callback_data=...),\n",
    "    InlineKeyboardButton(\"row 2\", callback_data=...)\n",
    "]\n",
    "reply_markup = InlineKeyboardMarkup(util.build_menu(button_list, n_cols=2))\n",
    "bot.send_message(..., \"A two-column menu\", reply_markup=reply_markup)\n",
    "    \n",
    "# Funcion que escucha tareas todo el rato\n",
    "@bot.message_handler(func=lambda message: True)\n",
    "def list_tasks(message):\n",
    "    global a\n",
    "    global completadas\n",
    "    if commands == \"task\":\n",
    "        a.append(message.text)\n",
    "    elif commands == \"delete\":\n",
    "        if message.text in a:\n",
    "            a.remove(message.text)\n",
    "            bot.send_message(chatid, emojize(\"YUJUUUUUU :confetti_ball: :confetti_ball:\"))\n",
    "            send_congrat(message)\n",
    "            completadas = message.text\n",
    "        else:\n",
    "            bot.send_message(chatid, \"Esta tarea no estaba en tu lista\")\n",
    "            \n",
    "\n",
    "print(\"El bot se está ejecutando\")\n",
    "bot.polling()\n"
   ]
  }
 ],
 "metadata": {
  "kernelspec": {
   "display_name": "Python 3",
   "language": "python",
   "name": "python3"
  },
  "language_info": {
   "codemirror_mode": {
    "name": "ipython",
    "version": 3
   },
   "file_extension": ".py",
   "mimetype": "text/x-python",
   "name": "python",
   "nbconvert_exporter": "python",
   "pygments_lexer": "ipython3",
   "version": "3.6.5"
  }
 },
 "nbformat": 4,
 "nbformat_minor": 2
}
